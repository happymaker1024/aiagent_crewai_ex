{
 "cells": [
  {
   "cell_type": "markdown",
   "id": "8ba298f8",
   "metadata": {},
   "source": [
    "[주제] 테크 뉴스레터 작성하기"
   ]
  },
  {
   "cell_type": "markdown",
   "id": "6dd266a2",
   "metadata": {},
   "source": [
    "# CrewAI와 Tool 결합"
   ]
  },
  {
   "cell_type": "code",
   "execution_count": 1,
   "id": "740b3555-83ce-4ae0-bf0c-226315b5c929",
   "metadata": {},
   "outputs": [],
   "source": [
    "import os\n",
    "import warnings\n",
    "warnings.filterwarnings('ignore')"
   ]
  },
  {
   "cell_type": "code",
   "execution_count": 2,
   "id": "273d69c7",
   "metadata": {},
   "outputs": [],
   "source": [
    "OPENAI_API_KEY = os.getenv(\"OPENAI_API_KEY\")\n",
    "SERPER_API_KEY = os.getenv(\"SERPER_API_KEY\")"
   ]
  },
  {
   "cell_type": "markdown",
   "id": "799d1d4a",
   "metadata": {},
   "source": [
    "# 라이브러리 임포트"
   ]
  },
  {
   "cell_type": "markdown",
   "id": "11179ee8",
   "metadata": {},
   "source": [
    "### crewai_tools\n",
    "- SerperDevTool : Serper api를 활용한 결과물 받는 도구, 구글 웹검색 도구\n",
    "- WebsiteSearchTool : 특정 키워드와 특정 웹사이트를 주면, 해당 웹 사이트에서 키워드와 관련이 있는 부부만 가져옴.\n",
    "- ScrapeWebsiteTool : 어떤 URL을 주면 해당 url에 있는 텍스트를 스크래핑해서 가져오는 도구"
   ]
  },
  {
   "cell_type": "code",
   "execution_count": 3,
   "id": "532da9c6",
   "metadata": {},
   "outputs": [],
   "source": [
    "from crewai import Agent, Task, Crew\n",
    "from crewai.process import Process\n",
    "from crewai_tools import SerperDevTool, WebsiteSearchTool, ScrapeWebsiteTool\n",
    "from langchain_openai import ChatOpenAI"
   ]
  },
  {
   "cell_type": "markdown",
   "id": "16648823",
   "metadata": {},
   "source": [
    "# 필요한 객체 생성"
   ]
  },
  {
   "cell_type": "code",
   "execution_count": 4,
   "id": "f1aab707",
   "metadata": {},
   "outputs": [
    {
     "name": "stderr",
     "output_type": "stream",
     "text": [
      "c:\\Users\\magpi\\anaconda3\\envs\\agent_env\\Lib\\site-packages\\alembic\\config.py:577: DeprecationWarning: No path_separator found in configuration; falling back to legacy splitting on spaces, commas, and colons for prepend_sys_path.  Consider adding path_separator=os to Alembic config.\n",
      "  util.warn_deprecated(\n"
     ]
    }
   ],
   "source": [
    "# llm 객체\n",
    "llm = ChatOpenAI(model=\"gpt-4o-mini\")\n",
    "\n",
    "# Tool\n",
    "search_tool = SerperDevTool()\n",
    "web_rag_tool = WebsiteSearchTool()\n",
    "scrap_tool = ScrapeWebsiteTool()"
   ]
  },
  {
   "cell_type": "markdown",
   "id": "338f381b",
   "metadata": {},
   "source": [
    "# Agent 정의"
   ]
  },
  {
   "cell_type": "code",
   "execution_count": 5,
   "id": "22d17c1e",
   "metadata": {},
   "outputs": [],
   "source": [
    "# 테크 트렌드 연구원\n",
    "researcher = Agent(\n",
    "    role = \"테크 트렌드 연구원\",\n",
    "    goal=\"인공지능 분야의 최신 기술 트렌드를 한국어로 제공합니다. 지금은 2025년 6월입니다.\",\n",
    "    backstory=\"기술 트렌드에 예리한 안목을 지닌 전문 분석가이자 AI 개발자입니다.\",\n",
    "    tools=[search_tool, web_rag_tool],\n",
    "    verbose=True,\n",
    "    max_iter=5,  # 해당 Agent가 주어진 task를 수행할 때 반복 실행할 횟수를 제한하는 것임(웹검색을 5번 실행, 비용과 연결되어 있음.)\n",
    "    llm=llm\n",
    ")"
   ]
  },
  {
   "cell_type": "markdown",
   "id": "3c286be7",
   "metadata": {},
   "source": [
    "- allow_delegation=False\n",
    "    - 해당 agnet가 task를 수행할 때 혼자 힘으로 하기 힘들 때 다른 agnet에 위임하는 설정\n",
    "    - detault=True\n",
    "    - False로 하지 않으면 수행중에 researcher에게 작업을 넘기는 경우가 발생하는데 이것을 발생하지 않도록 제한하기 위함"
   ]
  },
  {
   "cell_type": "code",
   "execution_count": 6,
   "id": "b78f7555",
   "metadata": {},
   "outputs": [],
   "source": [
    "# 뉴스레터 작성 agnet\n",
    "writer = Agent(\n",
    "    role=\"뉴스레터 작성자\",\n",
    "    goal=\"최신 AI 기술 트렌드에 대한 매력적인 테크 뉴스레터를 한국어로 작성하세요. 지금은 2025년 6월입니다.\",\n",
    "    backstory=\"기술에 대한 열정을 가진 숙련된 작가입니다.\",\n",
    "    verbose=True,\n",
    "    allow_delegation=False,  \n",
    "    llm=llm\n",
    ")"
   ]
  },
  {
   "cell_type": "markdown",
   "id": "6399a992",
   "metadata": {},
   "source": [
    "# Task 정의"
   ]
  },
  {
   "cell_type": "code",
   "execution_count": 7,
   "id": "9a490298",
   "metadata": {},
   "outputs": [],
   "source": [
    "research = Task(\n",
    "    description=\"AI 업계의 최신 기술 동향을 조사하고 요약을 제공하세요.\",\n",
    "    expected_output=\"AI 업계에서 가장 주목받는 3대 기술 동향과 그 중요성에 대한 신선한 관점을 요약한 글\",\n",
    "    agent=researcher\n",
    ")"
   ]
  },
  {
   "cell_type": "code",
   "execution_count": 8,
   "id": "cbf43f4e",
   "metadata": {},
   "outputs": [],
   "source": [
    "write = Task(\n",
    "    description=\"\"\"\n",
    "테크 트렌드 연구원의 요약을 바탕으로 AI 산업에 대한 매력적인 테크 뉴스레터를 작성하세요.\n",
    "테크 뉴스레터이므로 전문적인 용어를 사용해도 괜찮습니다.\n",
    "\"\"\",\n",
    "    expected_output=\"최신 기술 관련 소식을 재밌는 말투로 소개하는 4문단짜리 마크다운 형식 뉴스레터\", # 결과물 형식\n",
    "    agent=writer,\n",
    "    output_file=r\"./new_post.md\" # the final blog post will be saved here\n",
    ")"
   ]
  },
  {
   "cell_type": "markdown",
   "id": "c0612cad",
   "metadata": {},
   "source": [
    "# Crew 정의"
   ]
  },
  {
   "cell_type": "code",
   "execution_count": 9,
   "id": "39e4036c",
   "metadata": {},
   "outputs": [],
   "source": [
    "crew = Crew(\n",
    "    agents=[researcher, writer],\n",
    "    tasks=[research, write],\n",
    "    verbose=False,\n",
    "    process=Process.sequential,\n",
    "    output_log_file=\"logs/crew_run.json\",   # 👈 JSON 형태로 모든 스텝이 저장됩니다.\n",
    ")"
   ]
  },
  {
   "cell_type": "markdown",
   "id": "ff7838a5",
   "metadata": {},
   "source": [
    "# Crew 실행"
   ]
  },
  {
   "cell_type": "code",
   "execution_count": 10,
   "id": "693cf52f",
   "metadata": {},
   "outputs": [
    {
     "name": "stdout",
     "output_type": "stream",
     "text": [
      "\u001b[1m\u001b[95m# Agent:\u001b[00m \u001b[1m\u001b[92m테크 트렌드 연구원\u001b[00m\n",
      "\u001b[95m## Task:\u001b[00m \u001b[92mAI 업계의 최신 기술 동향을 조사하고 요약을 제공하세요.\u001b[00m\n",
      "\n",
      "\n",
      "\u001b[1m\u001b[95m# Agent:\u001b[00m \u001b[1m\u001b[92m테크 트렌드 연구원\u001b[00m\n",
      "\u001b[95m## Thought:\u001b[00m \u001b[92mAction: Search the internet with Serper\u001b[00m\n",
      "\u001b[95m## Using tool:\u001b[00m \u001b[92mSearch the internet with Serper\u001b[00m\n",
      "\u001b[95m## Tool Input:\u001b[00m \u001b[92m\n",
      "\"{\\\"search_query\\\": \\\"2025 AI industry technology trends\\\"}\"\u001b[00m\n",
      "\u001b[95m## Tool Output:\u001b[00m \u001b[92m\n",
      "{'searchParameters': {'q': '2025 AI industry technology trends', 'type': 'search', 'num': 10, 'engine': 'google'}, 'organic': [{'title': '5 AI Trends Shaping Innovation and ROI in 2025 | Morgan Stanley', 'link': 'https://www.morganstanley.com/insights/articles/ai-trends-reasoning-frontier-models-2025-tmt', 'snippet': \"The world's biggest tech companies are vying to refine cutting-edge uses for artificial intelligence utilizations: large language models' ability to reason like humans; frontier models that push boundaries in natural-language processing, image generation, and coding; and the creation of systems that integrate ...\", 'position': 1}, {'title': \"6 AI trends you'll see more of in 2025 - Microsoft News\", 'link': 'https://news.microsoft.com/source/features/ai/6-ai-trends-youll-see-more-of-in-2025/', 'snippet': 'In 2025, AI will evolve from a tool for work and home to an integral part of both. AI-powered agents will do more with greater autonomy and help simplify your ...', 'position': 2}, {'title': \"What's next for AI in 2025 | MIT Technology Review\", 'link': 'https://www.technologyreview.com/2025/01/08/1109188/whats-next-for-ai-in-2025/', 'snippet': 'You already know that agents and small language models are the next big things. Here are five other hot trends you should watch out for this year.', 'position': 3}, {'title': 'Five Transformative AI Technology Trends Shaping 2025 - Forbes', 'link': 'https://www.forbes.com/councils/forbestechcouncil/2025/04/15/five-transformative-ai-technology-trends-shaping-2025/', 'snippet': '1. AI Agents · 2. Inference Time Compute · 3. Very Large Language Models · 4. Small Language Models · 5. Near Infinite Memory.', 'position': 4}, {'title': 'The State of AI: Global survey | McKinsey', 'link': 'https://www.mckinsey.com/capabilities/quantumblack/our-insights/the-state-of-ai', 'snippet': 'In this latest version of the annual McKinsey Global Survey on AI, we look at the current trends that are driving real value from artificial ...', 'position': 5}, {'title': '5 tech trends for Singapore enterprises in 2025 | The Straits Times', 'link': 'https://www.straitstimes.com/business/five-tech-trends-for-spore-enterprises-in-2025', 'snippet': 'Autonomous artificial intelligence (AI) agents will start appearing in workflows, surpassing their predecessors, generative AI and chatbots.', 'position': 6}, {'title': '12 Graphs That Explain the State of AI in 2025 - IEEE Spectrum', 'link': 'https://spectrum.ieee.org/ai-index-2025', 'snippet': \"1. U.S. Companies Are Out Ahead · 2. Speaking of Training Costs... · 3. Yet the Cost of Using AI Is Going Down · 4. AI's Massive Carbon Footprint.\", 'position': 7}, {'title': 'Top Tech Trends of 2025: AI-powered everything - Capgemini', 'link': 'https://www.capgemini.com/insights/research-library/top-tech-trends-2025/', 'snippet': 'Industry executives in our survey ranked AI and Gen AI in cybersecurity as the topmost trend out of more than 60 trends for 2025. AI-driven robotics ...', 'position': 8}, {'title': 'Tech Trends 2025 - Deloitte', 'link': 'https://www.deloitte.com/ce/en/related-content/tech-trends-2025.html', 'snippet': \"Deloitte's Tech Trends 2025 report reveals the extent to which AI is being woven into the fabric of our lives. AI is fundamentally challenging and enhancing the ...\", 'position': 9}, {'title': 'Five Trends in AI and Data Science for 2025', 'link': 'https://sloanreview.mit.edu/article/five-trends-in-ai-and-data-science-for-2025/', 'snippet': 'From agentic AI to unstructured data, these 2025 AI trends deserve close attention from leaders. Get fresh data and advice from two experts.', 'position': 10}], 'relatedSearches': [{'query': 'mckinsey ai report 2025'}, {'query': 'ai adoption by industry'}, {'query': 'state of ai 2025'}, {'query': 'mckinsey state of ai'}, {'query': 'ai in 2025'}, {'query': 'mckinsey global survey on ai'}, {'query': 'ai trends'}, {'query': 'artificial intelligence report pdf'}], 'credits': 1}\u001b[00m\n"
     ]
    },
    {
     "name": "stderr",
     "output_type": "stream",
     "text": [
      "Inserting batches in chromadb:   0%|          | 0/1 [00:00<?, ?it/s]c:\\Users\\magpi\\anaconda3\\envs\\agent_env\\Lib\\site-packages\\chromadb\\types.py:144: PydanticDeprecatedSince211: Accessing the 'model_fields' attribute on the instance is deprecated. Instead, you should access this attribute from the model class. Deprecated in Pydantic V2.11 to be removed in V3.0.\n",
      "  return self.model_fields  # pydantic 2.x\n",
      "Inserting batches in chromadb: 100%|██████████| 1/1 [00:01<00:00,  1.23s/it]\n"
     ]
    },
    {
     "name": "stdout",
     "output_type": "stream",
     "text": [
      "\n",
      "\n",
      "\u001b[1m\u001b[95m# Agent:\u001b[00m \u001b[1m\u001b[92m테크 트렌드 연구원\u001b[00m\n",
      "\u001b[95m## Thought:\u001b[00m \u001b[92mAction: Search in a specific website\u001b[00m\n",
      "\u001b[95m## Using tool:\u001b[00m \u001b[92mSearch in a specific website\u001b[00m\n",
      "\u001b[95m## Tool Input:\u001b[00m \u001b[92m\n",
      "\"{\\\"search_query\\\": \\\"AI technology trends 2025\\\", \\\"website\\\": \\\"https://www.morganstanley.com/insights/articles/ai-trends-reasoning-frontier-models-2025-tmt\\\"}\"\u001b[00m\n",
      "\u001b[95m## Tool Output:\u001b[00m \u001b[92m\n",
      "Relevant Content:\n",
      "5 AI Trends Shaping Innovation and ROI in 2025 | Morgan Stanley Investment Banking Mar 20, 2025 AI’s Next Leap: 5 Trends Shaping Innovation and ROI Tweet this Share this on LinkedIn Share this on Facebook Email this Print this The world’s biggest tech companies presented at Morgan Stanley’s Technology, Media & Telecom Conference, identifying five trends around AI’s next frontiers and its ability to deliver ROI for enterprises. Key Takeaways In 2025, technology companies are focused on building AI platforms that meet their enterprise customers’ needs for optimized performance, profitability and security. In doing so, they’re partnering across the AI ecosystem of chips companies, hyperscalers, large language models, data and software companies, and grappling with U.S. trade policy unknowns and resource constraints. The top trends in new AI frontiers and the focus on enterprises include AI reasoning, custom silicon, cloud migrations, systems to measure AI efficacy and building an agentic AI future. The world’s biggest tech companies are vying to refine cutting-edge uses for artificial intelligence utilizations: large language models’ ability to reason like humans; frontier models that push boundaries in natural-language processing, image generation, and coding; and the creation of systems that integrate multimodal data across text, images and video. In doing so, they are racing to capture more AI market share and meet the needs of their biggest customers—the enterprises that are investing in AI to cut costs and boost productivity. In return, they demand optimized performance, profitability and security. “This year it’s all about the customer,” said Kate Claassen, Head of Global Internet Investment Banking at Morgan Stanley. “We're on the precipice of an entirely new technology foundation, where the best of the best is available to any business. The way companies will win is by bringing that to their customers holistically.” N/A C-suite executives from the biggest\n",
      "\n",
      "language models unleashed the power of AI. Now it’s time for more efficient AIs to take over. Biotechnology and healthStem-cell therapies that work: 10 Breakthrough Technologies 2025After years of controversy, stem cells are on the cusp of cures for conditions like epilepsy and type 1 diabetes. CollectionWhat's NextMIT Technology Review’s What’s Next series looks across industries, trends, and technologies to give you a first look at the future.Previous slideNext slideClimate change and energyWhat’s next for nuclear powerGlobal shifts, advancing tech, and data center demand: Here’s what’s coming in 2025 and beyond. Artificial intelligenceWhat’s next for AI in 2025You already know that agents and small language models are the next big things. Here are five other hot trends you should watch out for this year. PolicyWhat’s next for our privacy?The US still has no federal privacy law. But recent enforcement actions against data brokers may offer some new protections for Americans’ personal information. Climate change and energyWhy EVs are (mostly) set for solid growth in 2025What happens in the US, however, will depend a lot on the incoming Trump administration. SpaceWhat’s next for NASA’s giant moon rocket?The Space Launch System is facing fresh calls for cancellation, but it still has a key role to play in NASA’s return to the moon. Artificial intelligenceWhat’s next for dronesPolice drones, rapid deliveries of blood, tech-friendly regulations, and autonomous weapons are all signs that drone technology is changing quickly. Biotechnology and healthWhat’s next for MDMAThe FDA is poised to approve the notorious party drug as a therapy. Here’s what it means, and where similar drugs stand in the US. Biotechnology and healthWhat’s next for bird flu vaccinesIf we want our vaccine production process to be more robust and faster, we’ll have to stop relying on chicken eggs. BusinessWhat’s next in chipsHow Big Tech, startups, AI devices, and trade wars will transform the way\n",
      "\n",
      "asteroid-deflecting nukes, bitcoin-powered hot tubs, and a new way to detect bird flu.Read nowMore issuesArtificial intelligenceHow AI can help supercharge creativityForget one-click creativity. These artists and musicians are finding new ways to make art using AI, by injecting friction, challenge, and serendipity into the process. CultureHow creativity became the reigning value of our timeIn \"The Cult of Creativity,\" Samuel Franklin excavates the surprisingly recent history of an idea, an ideal, and an ideology. Artificial intelligenceAI is coming for music, tooNew diffusion AI models that make songs from scratch are complicating our definitions of authorship and human creativity. SpaceMeet the researchers testing the “Armageddon” approach to asteroid defenseA nuclear explosion might eventually be Earth’s only way to protect itself from a dangerous asteroid. But preparing for that without launching nukes into space means getting creative. Artificial intelligenceAI is pushing the limits of the physical worldArtificial intelligence is painting pictures, writing novels, making videos, and composing symphonies. Can it change what we build? HighlightsCulture6 months10 Breakthrough Technologies 2025What will really matter in the long run? That’s the question we tackle each year as we compile this annual list. Culture3 things that didn’t make the 10 Breakthrough Technologies of 2025 listThe 2025 edition was published in January. Here’s what wasn't on it. Artificial intelligenceFast-learning robots: 10 Breakthrough Technologies 2025AI advances are rapidly speeding up the process of training robots, and helping them do new tasks almost instantly. Climate change and energyGreen steel: 10 Breakthrough Technologies 2025Making steel produces a lot of greenhouse-gas emissions. Now, construction is underway in Sweden on an industrial-scale plant that will emit almost zero carbon dioxide. Artificial intelligenceSmall language models: 10 Breakthrough Technologies 2025Large\u001b[00m\n",
      "\u001b[91m \n",
      "\n",
      "I encountered an error while trying to use the tool. This was the error: 403 Client Error: Forbidden for url: https://news.microsoft.com/source/features/ai/6-ai-trends-youll-see-more-of-in-2025/.\n",
      " Tool Search in a specific website accepts these inputs: Tool Name: Search in a specific website\n",
      "Tool Arguments: {'search_query': {'description': 'Mandatory search query you want to use to search a specific website', 'type': 'str'}, 'website': {'description': 'Mandatory valid website URL you want to search on', 'type': 'str'}}\n",
      "Tool Description: A tool that can be used to semantic search a query from a specific URL content.\n",
      "\u001b[00m\n",
      "\n",
      "\n",
      "\u001b[1m\u001b[95m# Agent:\u001b[00m \u001b[1m\u001b[92m테크 트렌드 연구원\u001b[00m\n",
      "\u001b[95m## Thought:\u001b[00m \u001b[92mAction: Search in a specific website\u001b[00m\n",
      "\u001b[95m## Using tool:\u001b[00m \u001b[92mSearch in a specific website\u001b[00m\n",
      "\u001b[95m## Tool Input:\u001b[00m \u001b[92m\n",
      "\"{\\\"search_query\\\": \\\"AI trends 2025\\\", \\\"website\\\": \\\"https://news.microsoft.com/source/features/ai/6-ai-trends-youll-see-more-of-in-2025/\\\"}\"\u001b[00m\n",
      "\u001b[95m## Tool Output:\u001b[00m \u001b[92m\n",
      "\n",
      "I encountered an error while trying to use the tool. This was the error: 403 Client Error: Forbidden for url: https://news.microsoft.com/source/features/ai/6-ai-trends-youll-see-more-of-in-2025/.\n",
      " Tool Search in a specific website accepts these inputs: Tool Name: Search in a specific website\n",
      "Tool Arguments: {'search_query': {'description': 'Mandatory search query you want to use to search a specific website', 'type': 'str'}, 'website': {'description': 'Mandatory valid website URL you want to search on', 'type': 'str'}}\n",
      "Tool Description: A tool that can be used to semantic search a query from a specific URL content..\n",
      "Moving on then. I MUST either use a tool (use one at time) OR give my best final answer not both at the same time. When responding, I must use the following format:\n",
      "\n",
      "```\n",
      "Thought: you should always think about what to do\n",
      "Action: the action to take, should be one of [Search the internet with Serper, Search in a specific website]\n",
      "Action Input: the input to the action, dictionary enclosed in curly braces\n",
      "Observation: the result of the action\n",
      "```\n",
      "This Thought/Action/Action Input/Result can repeat N times. Once I know the final answer, I must return the following format:\n",
      "\n",
      "```\n",
      "Thought: I now can give a great answer\n",
      "Final Answer: Your final answer must be the great and the most complete as possible, it must be outcome described\n",
      "\n",
      "```\u001b[00m\n"
     ]
    },
    {
     "name": "stderr",
     "output_type": "stream",
     "text": [
      "Inserting batches in chromadb:   0%|          | 0/1 [00:00<?, ?it/s]c:\\Users\\magpi\\anaconda3\\envs\\agent_env\\Lib\\site-packages\\chromadb\\types.py:144: PydanticDeprecatedSince211: Accessing the 'model_fields' attribute on the instance is deprecated. Instead, you should access this attribute from the model class. Deprecated in Pydantic V2.11 to be removed in V3.0.\n",
      "  return self.model_fields  # pydantic 2.x\n",
      "Inserting batches in chromadb: 100%|██████████| 1/1 [00:00<00:00,  1.18it/s]\n"
     ]
    },
    {
     "name": "stdout",
     "output_type": "stream",
     "text": [
      "\n",
      "\n",
      "\u001b[1m\u001b[95m# Agent:\u001b[00m \u001b[1m\u001b[92m테크 트렌드 연구원\u001b[00m\n",
      "\u001b[95m## Thought:\u001b[00m \u001b[92mAction: Search in a specific website\u001b[00m\n",
      "\u001b[95m## Using tool:\u001b[00m \u001b[92mSearch in a specific website\u001b[00m\n",
      "\u001b[95m## Tool Input:\u001b[00m \u001b[92m\n",
      "\"{\\\"search_query\\\": \\\"AI technology trends 2025\\\", \\\"website\\\": \\\"https://www.technologyreview.com/2025/01/08/1109188/whats-next-for-ai-in-2025/\\\"}\"\u001b[00m\n",
      "\u001b[95m## Tool Output:\u001b[00m \u001b[92m\n",
      "Relevant Content:\n",
      "5 AI Trends Shaping Innovation and ROI in 2025 | Morgan Stanley Investment Banking Mar 20, 2025 AI’s Next Leap: 5 Trends Shaping Innovation and ROI Tweet this Share this on LinkedIn Share this on Facebook Email this Print this The world’s biggest tech companies presented at Morgan Stanley’s Technology, Media & Telecom Conference, identifying five trends around AI’s next frontiers and its ability to deliver ROI for enterprises. Key Takeaways In 2025, technology companies are focused on building AI platforms that meet their enterprise customers’ needs for optimized performance, profitability and security. In doing so, they’re partnering across the AI ecosystem of chips companies, hyperscalers, large language models, data and software companies, and grappling with U.S. trade policy unknowns and resource constraints. The top trends in new AI frontiers and the focus on enterprises include AI reasoning, custom silicon, cloud migrations, systems to measure AI efficacy and building an agentic AI future. The world’s biggest tech companies are vying to refine cutting-edge uses for artificial intelligence utilizations: large language models’ ability to reason like humans; frontier models that push boundaries in natural-language processing, image generation, and coding; and the creation of systems that integrate multimodal data across text, images and video. In doing so, they are racing to capture more AI market share and meet the needs of their biggest customers—the enterprises that are investing in AI to cut costs and boost productivity. In return, they demand optimized performance, profitability and security. “This year it’s all about the customer,” said Kate Claassen, Head of Global Internet Investment Banking at Morgan Stanley. “We're on the precipice of an entirely new technology foundation, where the best of the best is available to any business. The way companies will win is by bringing that to their customers holistically.” N/A C-suite executives from the biggest\n",
      "\n",
      "What's next for AI in 2025 | MIT Technology Review Skip to Content MIT Technology Review’s What’s Next series looks across industries, trends, and technologies to give you a first look at the future. You can read the rest of them here. For the last couple of years we’ve had a go at predicting what’s coming next in AI. A fool’s game given how fast this industry moves. But we’re on a roll, and we’re doing it again. How did we score last time round? Our four hot trends to watch out for in 2024 included what we called customized chatbots—interactive helper apps powered by multimodal large language models (check: we didn’t know it yet, but we were talking about what everyone now calls agents, the hottest thing in AI right now); generative video (check: few technologies have improved so fast in the last 12 months, with OpenAI and Google DeepMind releasing their flagship video generation models, Sora and Veo, within a week of each other this December); and more general-purpose robots that can do a wider range of tasks (check: the payoffs from large language models continue to trickle down to other parts of the tech industry, and robotics is top of the list). We also said that AI-generated election disinformation would be everywhere, but here—happily—we got it wrong. There were many things to wring our hands over this year, but political deepfakes were thin on the ground. So what’s coming in 2025? We’re going to ignore the obvious here: You can bet that agents and smaller, more efficient, language models will continue to shape the industry. Instead, here are five alternative picks from our AI team. 1. Generative virtual playgrounds If 2023 was the year of generative images and 2024 was the year of generative video—what comes next? If you guessed generative virtual worlds (a.k.a. video games), high fives all round. We got a tiny glimpse of this technology in February, when Google DeepMind revealed a generative model called Genie that could take a still image and turn it into\n",
      "\n",
      "language models unleashed the power of AI. Now it’s time for more efficient AIs to take over. Biotechnology and healthStem-cell therapies that work: 10 Breakthrough Technologies 2025After years of controversy, stem cells are on the cusp of cures for conditions like epilepsy and type 1 diabetes. CollectionWhat's NextMIT Technology Review’s What’s Next series looks across industries, trends, and technologies to give you a first look at the future.Previous slideNext slideClimate change and energyWhat’s next for nuclear powerGlobal shifts, advancing tech, and data center demand: Here’s what’s coming in 2025 and beyond. Artificial intelligenceWhat’s next for AI in 2025You already know that agents and small language models are the next big things. Here are five other hot trends you should watch out for this year. PolicyWhat’s next for our privacy?The US still has no federal privacy law. But recent enforcement actions against data brokers may offer some new protections for Americans’ personal information. Climate change and energyWhy EVs are (mostly) set for solid growth in 2025What happens in the US, however, will depend a lot on the incoming Trump administration. SpaceWhat’s next for NASA’s giant moon rocket?The Space Launch System is facing fresh calls for cancellation, but it still has a key role to play in NASA’s return to the moon. Artificial intelligenceWhat’s next for dronesPolice drones, rapid deliveries of blood, tech-friendly regulations, and autonomous weapons are all signs that drone technology is changing quickly. Biotechnology and healthWhat’s next for MDMAThe FDA is poised to approve the notorious party drug as a therapy. Here’s what it means, and where similar drugs stand in the US. Biotechnology and healthWhat’s next for bird flu vaccinesIf we want our vaccine production process to be more robust and faster, we’ll have to stop relying on chicken eggs. BusinessWhat’s next in chipsHow Big Tech, startups, AI devices, and trade wars will transform the way\n",
      "\n",
      "\n",
      "You ONLY have access to the following tools, and should NEVER make up tools that are not listed here:\n",
      "\n",
      "Tool Name: Search the internet with Serper\n",
      "Tool Arguments: {'search_query': {'description': 'Mandatory search query you want to use to search the internet', 'type': 'str'}}\n",
      "Tool Description: A tool that can be used to search the internet with a search_query. Supports different search types: 'search' (default), 'news'\n",
      "Tool Name: Search in a specific website\n",
      "Tool Arguments: {'search_query': {'description': 'Mandatory search query you want to use to search a specific website', 'type': 'str'}, 'website': {'description': 'Mandatory valid website URL you want to search on', 'type': 'str'}}\n",
      "Tool Description: A tool that can be used to semantic search a query from a specific URL content.\n",
      "\n",
      "IMPORTANT: Use the following format in your response:\n",
      "\n",
      "```\n",
      "Thought: you should always think about what to do\n",
      "Action: the action to take, only one name of [Search the internet with Serper, Search in a specific website], just the name, exactly as it's written.\n",
      "Action Input: the input to the action, just a simple JSON object, enclosed in curly braces, using \" to wrap keys and values.\n",
      "Observation: the result of the action\n",
      "```\n",
      "\n",
      "Once all necessary information is gathered, return the following format:\n",
      "\n",
      "```\n",
      "Thought: I now know the final answer\n",
      "Final Answer: the final answer to the original input question\n",
      "```\u001b[00m\n",
      "\n",
      "\n",
      "\u001b[1m\u001b[95m# Agent:\u001b[00m \u001b[1m\u001b[92m테크 트렌드 연구원\u001b[00m\n",
      "\u001b[95m## Thought:\u001b[00m \u001b[92mAction: Search the internet with Serper\u001b[00m\n",
      "\u001b[95m## Using tool:\u001b[00m \u001b[92mSearch the internet with Serper\u001b[00m\n",
      "\u001b[95m## Tool Input:\u001b[00m \u001b[92m\n",
      "\"{\\\"search_query\\\": \\\"AI technology trends 2025 summary\\\"}\"\u001b[00m\n",
      "\u001b[95m## Tool Output:\u001b[00m \u001b[92m\n",
      "{'searchParameters': {'q': 'AI technology trends 2025 summary', 'type': 'search', 'num': 10, 'engine': 'google'}, 'organic': [{'title': 'Five Transformative AI Technology Trends Shaping 2025 - Forbes', 'link': 'https://www.forbes.com/councils/forbestechcouncil/2025/04/15/five-transformative-ai-technology-trends-shaping-2025/', 'snippet': \"In 2025, we're witnessing more than just smarter algorithms; we're seeing the arrival of AI systems that learn while they work, autonomous agents that strategize like seasoned professionals and models small enough to fit in your pocket yet powerful enough to compete against supercomputers.\", 'position': 1}, {'title': \"6 AI trends you'll see more of in 2025 - Microsoft News\", 'link': 'https://news.microsoft.com/source/features/ai/6-ai-trends-youll-see-more-of-in-2025/', 'snippet': 'In 2025, AI will evolve from a tool for work and home to an integral part of both. AI-powered agents will do more with greater autonomy and help simplify your ...', 'position': 2}, {'title': \"What's next for AI in 2025 | MIT Technology Review\", 'link': 'https://www.technologyreview.com/2025/01/08/1109188/whats-next-for-ai-in-2025/', 'snippet': 'You already know that agents and small language models are the next big things. Here are five other hot trends you should watch out for this year.', 'position': 3}, {'title': '5 AI Trends Shaping Innovation and ROI in 2025 | Morgan Stanley', 'link': 'https://www.morganstanley.com/insights/articles/ai-trends-reasoning-frontier-models-2025-tmt', 'snippet': 'The top trends in new AI frontiers and the focus on enterprises include AI reasoning, custom silicon, cloud migrations, systems to measure AI ...', 'position': 4}, {'title': 'Five Trends in AI and Data Science for 2025', 'link': 'https://sloanreview.mit.edu/article/five-trends-in-ai-and-data-science-for-2025/', 'snippet': 'From agentic AI to unstructured data, these 2025 AI trends deserve close attention from leaders. Get fresh data and advice from two experts.', 'position': 5}, {'title': 'Future of AI: 7 Key AI Trends For 2025 & 2026 - Exploding Topics', 'link': 'https://explodingtopics.com/blog/future-of-ai', 'snippet': 'From personalized healthcare to automated investing, AI has the potential to revolutionize nearly every aspect of business.', 'position': 6}, {'title': 'Tech Trends 2025 - Deloitte', 'link': 'https://www.deloitte.com/ce/en/related-content/tech-trends-2025.html', 'snippet': \"Deloitte's Tech Trends 2025 report reveals the extent to which AI is being woven into the fabric of our lives. AI is fundamentally challenging and enhancing the ...\", 'position': 7}, {'title': '12 Graphs That Explain the State of AI in 2025 - IEEE Spectrum', 'link': 'https://spectrum.ieee.org/ai-index-2025', 'snippet': \"1. U.S. Companies Are Out Ahead · 2. Speaking of Training Costs... · 3. Yet the Cost of Using AI Is Going Down · 4. AI's Massive Carbon Footprint.\", 'position': 8}, {'title': 'Top 12 AI Technology Trends for 2025 - MyCVCreator', 'link': 'https://www.mycvcreator.com/blog/top-12-ai-technology-trends-for-2025', 'snippet': 'Tech analysts call agentic AI the “most trending AI trend” of 2025. In practice, AI agents are being built as co-pilots in the workplace, ...', 'position': 9}, {'title': '[PDF] 18th edition - 2025 tech trends report - Future Today Institute', 'link': 'https://ftsg.com/wp-content/uploads/2025/03/FTSG_2025_TR_FINAL_LINKED.pdf', 'snippet': 'Our 2025 edition includes 1000 pages, with hundreds of trends published individually in 15 volumes and as one comprehensive report. Download ...', 'position': 10}], 'relatedSearches': [{'query': 'generative ai trends 2025'}, {'query': 'data and ai trends for 2025'}, {'query': 'ai in 2025'}, {'query': 'top ai trends 2025'}, {'query': 'emerging trends in artificial intelligence'}, {'query': '2025 ai predictions'}, {'query': 'ai statistics 2025'}, {'query': \"6 ai trends you 'll see more of in 2025\"}], 'credits': 1}\u001b[00m\n",
      "\u001b[93m Maximum iterations reached. Requesting final answer.\u001b[00m\n",
      "\n",
      "\n",
      "\u001b[1m\u001b[95m# Agent:\u001b[00m \u001b[1m\u001b[92m테크 트렌드 연구원\u001b[00m\n",
      "\u001b[95m## Final Answer:\u001b[00m \u001b[92m\n",
      "2025년 인공지능(AI) 업계의 최신 기술 동향은 다음과 같은 세 가지 주요 트렌드로 요약될 수 있습니다:\n",
      "\n",
      "1. **에이전트 기반 AI의 발전**: AI 기술의 발전으로 인해 에이전트 기반 시스템이 점차 더 많은 자율성을 가지게 되었습니다. 이러한 AI 에이전트는 사용자의 요구를 더 잘 이해하고, 복잡한 문제를 해결하는 데 있어 인간처럼 전략적으로 행동할 수 있는 능력을 갖추게 됩니다. 이는 기업들이 AI를 통해 생산성을 높이고 운영 효율성을 극대화하는 데 기여할 것입니다.\n",
      "\n",
      "2. **대형 언어 모델 및 추론 능력**: 대형 언어 모델의 발전은 AI가 자연어 처리에서 인간과 유사한 수준의 추론 능력을 가지게 하는 데 중점을 두고 있습니다. 이러한 모델은 텍스트, 이미지 및 비디오와 같은 다양한 형태의 데이터를 통합하여 사용할 수 있게 되어, 멀티모달 데이터 처리의 새로운 지평을 열고 있습니다. 이는 교육, 헬스케어, 고객 서비스 등 다양한 분야에서 AI의 실질적 활용도를 높이는 데 기여할 것입니다.\n",
      "\n",
      "3. **클라우드 기반 AI 및 커스텀 실리콘**: AI 시스템의 성능을 극대화하기 위해 클라우드 서비스를 통한 데이터 처리와 커스텀 하드웨어의 결합이 이루어지고 있습니다. 기업은 클라우드 기반 AI 솔루션을 통해 자원을 효율적으로 관리하고, 비용을 절감하며, 실시간 데이터 처리 능력을 강화할 수 있습니다. 이는 기업이 AI 기술을 보다 안전하고 효율적으로 도입할 수 있는 기반을 제공합니다.\n",
      "\n",
      "이러한 기술 동향은 인공지능의 발전 방향을 제시하며, 기업들이 AI를 통해 경쟁력을 강화할 수 있는 기회를 제공합니다. AI는 이제 단순한 도구가 아닌, 기업 전략의 핵심 요소로 자리매김하고 있습니다.\u001b[00m\n",
      "\n",
      "\n",
      "\u001b[1m\u001b[95m# Agent:\u001b[00m \u001b[1m\u001b[92m뉴스레터 작성자\u001b[00m\n",
      "\u001b[95m## Task:\u001b[00m \u001b[92m\n",
      "테크 트렌드 연구원의 요약을 바탕으로 AI 산업에 대한 매력적인 테크 뉴스레터를 작성하세요.\n",
      "테크 뉴스레터이므로 전문적인 용어를 사용해도 괜찮습니다.\n",
      "\u001b[00m\n",
      "\n",
      "\n",
      "\u001b[1m\u001b[95m# Agent:\u001b[00m \u001b[1m\u001b[92m뉴스레터 작성자\u001b[00m\n",
      "\u001b[95m## Final Answer:\u001b[00m \u001b[92m\n",
      "# 최신 AI 기술 트렌드 뉴스레터 (2025년 6월호)\n",
      "\n",
      "안녕하세요, 테크 팬 여러분! 2025년의 인공지능(AI) 세계는 정말 흥미진진한 변화로 가득 차 있습니다. 이번 뉴스레터에서는 AI 산업의 최신 동향을 세 가지 주요 트렌드를 통해 살펴보겠습니다. 자, 그럼 시작해볼까요?\n",
      "\n",
      "## 1. 에이전트 기반 AI의 자율성 향상\n",
      "\n",
      "최근 AI 기술이 눈부신 발전을 이루면서, 에이전트 기반 시스템은 더욱 더 많은 자율성을 갖추게 되었습니다. 이제 AI 에이전트는 사용자 요구를 더 정확하게 이해하고, 복잡한 문제를 해결하는 데 있어 마치 인간처럼 전략적으로 행동할 수 있는 능력을 갖추었습니다. 이런 변화는 기업들이 AI를 통해 생산성을 높이고, 운영 효율성을 극대화하는 데 큰 도움이 될 것입니다. 여러분의 업무를 도와줄 AI 비서가 곧 등장할지도 모르겠네요!\n",
      "\n",
      "## 2. 대형 언어 모델의 진화\n",
      "\n",
      "대형 언어 모델의 발전은 AI가 자연어 처리에서 인간과 비슷한 수준의 추론 능력을 갖추도록 하는 데 중점을 두고 있습니다. 이 모델은 텍스트, 이미지, 비디오 등 다양한 형태의 데이터를 통합하여 처리할 수 있는 능력을 가지게 되어, 멀티모달 데이터 처리의 새로운 지평을 열고 있습니다. 교육, 헬스케어, 고객 서비스 등 여러 분야에서 AI의 실질적 활용도가 높아질 것이며, 이는 우리의 일상생활을 더욱 풍부하게 만들어 줄 것입니다.\n",
      "\n",
      "## 3. 클라우드 기반 AI와 커스텀 실리콘의 결합\n",
      "\n",
      "AI 시스템의 성능을 극대화하기 위해 클라우드 서비스와 커스텀 하드웨어의 결합이 이루어지고 있습니다. 기업들은 클라우드 기반 AI 솔루션을 통해 자원을 효율적으로 관리하고 비용을 절감하며, 실시간 데이터 처리 능력을 강화할 수 있습니다. 이는 기업이 AI 기술을 보다 안전하고 효율적으로 도입할 수 있는 기반을 제공합니다. 앞으로 AI가 기업 전략의 핵심 요소로 자리매김하는 데 큰 역할을 할 것입니다.\n",
      "\n",
      "이번 뉴스레터를 통해 최신 AI 트렌드를 살펴보았습니다. AI는 이제 단순한 도구가 아니라, 기업의 경쟁력을 강화하는 필수 요소로 자리 잡고 있습니다. 앞으로도 흥미로운 기술 소식을 전해드릴 예정이니, 많은 기대 부탁드립니다! 다음 호에서 만나요!\u001b[00m\n",
      "\n",
      "\n"
     ]
    }
   ],
   "source": [
    "result = crew.kickoff()"
   ]
  },
  {
   "cell_type": "markdown",
   "id": "45d6fc62",
   "metadata": {},
   "source": [
    "# 마크다운으로 표시"
   ]
  },
  {
   "cell_type": "code",
   "execution_count": 11,
   "id": "b7072431",
   "metadata": {},
   "outputs": [
    {
     "data": {
      "text/markdown": [
       "# 최신 AI 기술 트렌드 뉴스레터 (2025년 6월호)\n",
       "\n",
       "안녕하세요, 테크 팬 여러분! 2025년의 인공지능(AI) 세계는 정말 흥미진진한 변화로 가득 차 있습니다. 이번 뉴스레터에서는 AI 산업의 최신 동향을 세 가지 주요 트렌드를 통해 살펴보겠습니다. 자, 그럼 시작해볼까요?\n",
       "\n",
       "## 1. 에이전트 기반 AI의 자율성 향상\n",
       "\n",
       "최근 AI 기술이 눈부신 발전을 이루면서, 에이전트 기반 시스템은 더욱 더 많은 자율성을 갖추게 되었습니다. 이제 AI 에이전트는 사용자 요구를 더 정확하게 이해하고, 복잡한 문제를 해결하는 데 있어 마치 인간처럼 전략적으로 행동할 수 있는 능력을 갖추었습니다. 이런 변화는 기업들이 AI를 통해 생산성을 높이고, 운영 효율성을 극대화하는 데 큰 도움이 될 것입니다. 여러분의 업무를 도와줄 AI 비서가 곧 등장할지도 모르겠네요!\n",
       "\n",
       "## 2. 대형 언어 모델의 진화\n",
       "\n",
       "대형 언어 모델의 발전은 AI가 자연어 처리에서 인간과 비슷한 수준의 추론 능력을 갖추도록 하는 데 중점을 두고 있습니다. 이 모델은 텍스트, 이미지, 비디오 등 다양한 형태의 데이터를 통합하여 처리할 수 있는 능력을 가지게 되어, 멀티모달 데이터 처리의 새로운 지평을 열고 있습니다. 교육, 헬스케어, 고객 서비스 등 여러 분야에서 AI의 실질적 활용도가 높아질 것이며, 이는 우리의 일상생활을 더욱 풍부하게 만들어 줄 것입니다.\n",
       "\n",
       "## 3. 클라우드 기반 AI와 커스텀 실리콘의 결합\n",
       "\n",
       "AI 시스템의 성능을 극대화하기 위해 클라우드 서비스와 커스텀 하드웨어의 결합이 이루어지고 있습니다. 기업들은 클라우드 기반 AI 솔루션을 통해 자원을 효율적으로 관리하고 비용을 절감하며, 실시간 데이터 처리 능력을 강화할 수 있습니다. 이는 기업이 AI 기술을 보다 안전하고 효율적으로 도입할 수 있는 기반을 제공합니다. 앞으로 AI가 기업 전략의 핵심 요소로 자리매김하는 데 큰 역할을 할 것입니다.\n",
       "\n",
       "이번 뉴스레터를 통해 최신 AI 트렌드를 살펴보았습니다. AI는 이제 단순한 도구가 아니라, 기업의 경쟁력을 강화하는 필수 요소로 자리 잡고 있습니다. 앞으로도 흥미로운 기술 소식을 전해드릴 예정이니, 많은 기대 부탁드립니다! 다음 호에서 만나요!"
      ],
      "text/plain": [
       "<IPython.core.display.Markdown object>"
      ]
     },
     "metadata": {},
     "output_type": "display_data"
    }
   ],
   "source": [
    "from IPython.display import display, Markdown\n",
    "display(Markdown(result.raw))"
   ]
  },
  {
   "cell_type": "code",
   "execution_count": null,
   "id": "30b6dbb5",
   "metadata": {},
   "outputs": [],
   "source": []
  },
  {
   "cell_type": "code",
   "execution_count": null,
   "id": "fa1fb95c",
   "metadata": {},
   "outputs": [],
   "source": []
  }
 ],
 "metadata": {
  "kernelspec": {
   "display_name": "agent_env",
   "language": "python",
   "name": "python3"
  },
  "language_info": {
   "codemirror_mode": {
    "name": "ipython",
    "version": 3
   },
   "file_extension": ".py",
   "mimetype": "text/x-python",
   "name": "python",
   "nbconvert_exporter": "python",
   "pygments_lexer": "ipython3",
   "version": "3.12.11"
  }
 },
 "nbformat": 4,
 "nbformat_minor": 5
}
