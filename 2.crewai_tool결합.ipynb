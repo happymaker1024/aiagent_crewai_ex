{
 "cells": [
  {
   "cell_type": "markdown",
   "id": "8ba298f8",
   "metadata": {},
   "source": [
    "[주제] 테크 뉴스레터 작성하기"
   ]
  },
  {
   "cell_type": "markdown",
   "id": "6dd266a2",
   "metadata": {},
   "source": [
    "# CrewAI와 Tool 결합"
   ]
  },
  {
   "cell_type": "code",
   "execution_count": 13,
   "id": "740b3555-83ce-4ae0-bf0c-226315b5c929",
   "metadata": {},
   "outputs": [],
   "source": [
    "import os\n",
    "import warnings\n",
    "warnings.filterwarnings('ignore')\n"
   ]
  },
  {
   "cell_type": "code",
   "execution_count": 14,
   "id": "273d69c7",
   "metadata": {},
   "outputs": [],
   "source": [
    "OPENAI_API_KEY = os.getenv(\"OPENAI_API_KEY\")\n",
    "SERPER_API_KEY = os.getenv(\"SERPER_API_KEY\")"
   ]
  },
  {
   "cell_type": "markdown",
   "id": "799d1d4a",
   "metadata": {},
   "source": [
    "# 라이브러리 임포트"
   ]
  },
  {
   "cell_type": "markdown",
   "id": "11179ee8",
   "metadata": {},
   "source": [
    "### crewai_tools\n",
    "- SerperDevTool : Serper api를 활용한 결과물 받는 도구, 구글 웹검색 도구\n",
    "- WebsiteSearchTool : 특정 키워드와 특정 웹사이트를 주면, 해당 웹 사이트에서 키워드와 관련이 있는 부부만 가져옴.\n",
    "- ScrapeWebsiteTool : 어떤 URL을 주면 해당 url에 있는 텍스트를 스크래핑해서 가져오는 도구"
   ]
  },
  {
   "cell_type": "code",
   "execution_count": 15,
   "id": "532da9c6",
   "metadata": {},
   "outputs": [],
   "source": [
    "from crewai import Agent, Task, Crew\n",
    "from crewai.process import Process\n",
    "from crewai_tools import SerperDevTool, WebsiteSearchTool, ScrapeWebsiteTool\n",
    "from langchain_openai import ChatOpenAI"
   ]
  },
  {
   "cell_type": "markdown",
   "id": "16648823",
   "metadata": {},
   "source": [
    "# 필요한 객체 생성"
   ]
  },
  {
   "cell_type": "code",
   "execution_count": 16,
   "id": "f1aab707",
   "metadata": {},
   "outputs": [],
   "source": [
    "# llm 객체\n",
    "llm = ChatOpenAI(model=\"gpt-4o-mini\")\n",
    "\n",
    "# Tool\n",
    "search_tool = SerperDevTool()\n",
    "web_rag_tool = WebsiteSearchTool()\n",
    "scrap_tool = ScrapeWebsiteTool()"
   ]
  },
  {
   "cell_type": "markdown",
   "id": "338f381b",
   "metadata": {},
   "source": [
    "# Agent 정의"
   ]
  },
  {
   "cell_type": "code",
   "execution_count": 17,
   "id": "22d17c1e",
   "metadata": {},
   "outputs": [],
   "source": [
    "# 테크 트렌드 연구원\n",
    "researcher = Agent(\n",
    "    role = \"테크 트렌드 연구원\",\n",
    "    goal=\"인공지능 분야의 최신 기술 트렌드를 한국어로 제공합니다. 지금은 2025년 6월입니다.\",\n",
    "    backstory=\"기술 트렌드에 예리한 안목을 지닌 전문 분석가이자 AI 개발자입니다.\",\n",
    "    tools=[search_tool, web_rag_tool],\n",
    "    verbose=True,\n",
    "    max_iter=5,  # 해당 Agent가 주어진 task를 수행할 때 반복 실행할 횟수를 제한하는 것임(웹검색을 5번 실행, 비용과 연결되어 있음.)\n",
    "    llm=llm\n",
    ")"
   ]
  },
  {
   "cell_type": "markdown",
   "id": "3c286be7",
   "metadata": {},
   "source": [
    "- allow_delegation=False\n",
    "    - 해당 agnet가 task를 수행할 때 혼자 힘으로 하기 힘들 때 다른 agnet에 위임하는 설정\n",
    "    - detault=True\n",
    "    - False로 하지 않으면 수행중에 researcher에게 작업을 넘기는 경우가 발생하는데 이것을 발생하지 않도록 제한하기 위함"
   ]
  },
  {
   "cell_type": "code",
   "execution_count": 18,
   "id": "b78f7555",
   "metadata": {},
   "outputs": [],
   "source": [
    "# 뉴스레터 작성 agnet\n",
    "writer = Agent(\n",
    "    role=\"뉴스레터 작성자\",\n",
    "    goal=\"최신 AI 기술 트렌드에 대한 매력적인 테크 뉴스레터를 한국어로 작성하세요. 지금은 2025년 6월입니다.\",\n",
    "    backstory=\"기술에 대한 열정을 가진 숙련된 작가입니다.\",\n",
    "    verbose=True,\n",
    "    allow_delegation=False,  \n",
    "    llm=llm\n",
    ")"
   ]
  },
  {
   "cell_type": "markdown",
   "id": "6399a992",
   "metadata": {},
   "source": [
    "# Task 정의"
   ]
  },
  {
   "cell_type": "code",
   "execution_count": 19,
   "id": "9a490298",
   "metadata": {},
   "outputs": [],
   "source": [
    "research = Task(\n",
    "    description=\"AI 업계의 최신 기술 동향을 조사하고 요약을 제공하세요.\",\n",
    "    expected_output=\"AI 업계에서 가장 주목받는 3대 기술 동향과 그 중요성에 대한 신선한 관점을 요약한 글\",\n",
    "    agent=researcher\n",
    ")"
   ]
  },
  {
   "cell_type": "code",
   "execution_count": 20,
   "id": "cbf43f4e",
   "metadata": {},
   "outputs": [],
   "source": [
    "write = Task(\n",
    "    description=\"\"\"\n",
    "테크 트렌드 연구원의 요약을 바탕으로 AI 산업에 대한 매력적인 테크 뉴스레터를 작성하세요.\n",
    "테크 뉴스레터이므로 전문적인 용어를 사용해도 괜찮습니다.\n",
    "\"\"\",\n",
    "    expected_output=\"최신 기술 관련 소식을 재밌는 말투로 소개하는 4문단짜리 마크다운 형식 뉴스레터\", # 결과물 형식\n",
    "    agent=writer,\n",
    "    output_file=r\"./new_post.md\" # the final blog post will be saved here\n",
    ")"
   ]
  },
  {
   "cell_type": "markdown",
   "id": "c0612cad",
   "metadata": {},
   "source": [
    "# Crew 정의"
   ]
  },
  {
   "cell_type": "code",
   "execution_count": 21,
   "id": "39e4036c",
   "metadata": {},
   "outputs": [],
   "source": [
    "crew = Crew(\n",
    "    agents=[researcher, writer],\n",
    "    tasks=[research, write],\n",
    "    verbose=False,\n",
    "    process=Process.sequential,\n",
    "    output_log_file=\"logs/crew_run.json\",   # 👈 JSON 형태로 모든 스텝이 저장됩니다.\n",
    ")"
   ]
  },
  {
   "cell_type": "markdown",
   "id": "ff7838a5",
   "metadata": {},
   "source": [
    "# Crew tasks 실행"
   ]
  },
  {
   "cell_type": "code",
   "execution_count": 22,
   "id": "693cf52f",
   "metadata": {},
   "outputs": [
    {
     "name": "stdout",
     "output_type": "stream",
     "text": [
      "\u001b[1m\u001b[95m# Agent:\u001b[00m \u001b[1m\u001b[92m테크 트렌드 연구원\u001b[00m\n",
      "\u001b[95m## Task:\u001b[00m \u001b[92mAI 업계의 최신 기술 동향을 조사하고 요약을 제공하세요.\u001b[00m\n",
      "\n",
      "\n",
      "\u001b[1m\u001b[95m# Agent:\u001b[00m \u001b[1m\u001b[92m테크 트렌드 연구원\u001b[00m\n",
      "\u001b[95m## Thought:\u001b[00m \u001b[92mAction: Search the internet with Serper\u001b[00m\n",
      "\u001b[95m## Using tool:\u001b[00m \u001b[92mSearch the internet with Serper\u001b[00m\n",
      "\u001b[95m## Tool Input:\u001b[00m \u001b[92m\n",
      "\"{\\\"search_query\\\": \\\"AI industry latest technology trends 2025\\\"}\"\u001b[00m\n",
      "\u001b[95m## Tool Output:\u001b[00m \u001b[92m\n",
      "{'searchParameters': {'q': 'AI industry latest technology trends 2025', 'type': 'search', 'num': 10, 'engine': 'google'}, 'organic': [{'title': \"6 AI trends you'll see more of in 2025 - Microsoft News\", 'link': 'https://news.microsoft.com/source/features/ai/6-ai-trends-youll-see-more-of-in-2025/', 'snippet': 'In 2025, AI will evolve from a tool for work and home to an integral part of both. AI-powered agents will do more with greater autonomy and help simplify your ...', 'position': 1}, {'title': \"What's next for AI in 2025 | MIT Technology Review\", 'link': 'https://www.technologyreview.com/2025/01/08/1109188/whats-next-for-ai-in-2025/', 'snippet': \"What's next for AI in 2025 · 1. Generative virtual playgrounds · 2. Large language models that “reason”.\", 'position': 2}, {'title': 'Tech Trends 2025 | Deloitte Insights', 'link': 'https://www2.deloitte.com/us/en/insights/focus/tech-trends.html', 'snippet': \"Tech Trends 2025 reveals the extent to which AI is being woven into the fabric of our lives. We'll eventually think of AI in the same way that ...\", 'position': 3}, {'title': 'Five Trends in AI and Data Science for 2025', 'link': 'https://sloanreview.mit.edu/article/five-trends-in-ai-and-data-science-for-2025/', 'snippet': 'From agentic AI to unstructured data, these 2025 AI trends deserve close attention from leaders. Get fresh data and advice from two experts.', 'position': 4}, {'title': 'Five Transformative AI Technology Trends Shaping 2025 - Forbes', 'link': 'https://www.forbes.com/councils/forbestechcouncil/2025/04/15/five-transformative-ai-technology-trends-shaping-2025/', 'snippet': '1. AI Agents · 2. Inference Time Compute · 3. Very Large Language Models · 4. Small Language Models · 5. Near Infinite Memory.', 'position': 5}, {'title': \"Explore Gartner's Top 10 Strategic Technology Trends for 2025\", 'link': 'https://www.gartner.com/en/articles/top-technology-trends-2025', 'snippet': 'What are the top technology trends for 2025? · Agentic AI · Post-quantum Cryptography · Spatial Computing · AI Governance Platforms · Ambient ...', 'position': 6, 'sitelinks': [{'title': \"CIO's Guide to Using the...\", 'link': 'https://www.gartner.com/en/information-technology/insights/technology-trends'}, {'title': 'Intelligent Agents in AI', 'link': 'https://www.gartner.com/en/articles/intelligent-agent-in-ai'}, {'title': 'Ambient invisible intelligence', 'link': 'https://www.gartner.com/en/articles/ambient-intelligence'}]}, {'title': '5 AI Trends Shaping the Future of Public Sector in 2025', 'link': 'https://cloud.google.com/blog/topics/public-sector/5-ai-trends-shaping-the-future-of-the-public-sector-in-2025', 'snippet': 'Trend #1: Multimodal AI: Unleashing the power of context · Trend #2: AI agents: The evolution from chatbots to multi-agent systems · Trend #3: ...', 'position': 7, 'sitelinks': [{'title': 'Try Gemini 2.5', 'link': 'https://cloud.google.com/blog/topics/public-sector/5-ai-trends-shaping-the-future-of-the-public-sector-in-2025#:~:text=Try%20Gemini%202.5'}, {'title': 'Trend #2: Ai Agents: The...', 'link': 'https://cloud.google.com/blog/topics/public-sector/5-ai-trends-shaping-the-future-of-the-public-sector-in-2025#:~:text=Trend%20%232%3A%20AI%20agents%3A%20The%20evolution%20from%20chatbots%20to%20multi%2Dagent%20systems'}, {'title': 'Trend #5: Security Gets...', 'link': 'https://cloud.google.com/blog/topics/public-sector/5-ai-trends-shaping-the-future-of-the-public-sector-in-2025#:~:text=Trend%20%235%3A%20Security%20gets%20tighter%2D%2D%20and%20tougher%2D%2D%20with%20AI'}]}, {'title': 'The 2025 AI Index Report | Stanford HAI', 'link': 'https://hai.stanford.edu/ai-index/2025-ai-index-report', 'snippet': 'We curated a summary of highlights from the AI Index Report 2025 that are particularly relevant to policymakers and other policy audiences.', 'position': 8, 'sitelinks': [{'title': '2024', 'link': 'https://hai.stanford.edu/ai-index/2024-ai-index-report'}, {'title': 'Economy', 'link': 'https://hai.stanford.edu/ai-index/2025-ai-index-report/economy'}, {'title': 'Research and Development', 'link': 'https://hai.stanford.edu/ai-index/2025-ai-index-report/research-and-development'}]}, {'title': 'Future of AI: 7 Key AI Trends For 2025 & 2026 - Exploding Topics', 'link': 'https://explodingtopics.com/blog/future-of-ai', 'snippet': 'From personalized healthcare to automated investing, AI has the potential to revolutionize nearly every aspect of business.', 'position': 9}], 'peopleAlsoAsk': [{'question': 'What is the AI market trend in 2025?', 'snippet': 'The market size in the Artificial Intelligence market is projected to reach US$244.22bn in 2025. The market size is expected to show an annual growth rate (CAGR 2025-2031) of 26.60%, resulting in a market volume of US$1.01tn by 2031.', 'title': 'Artificial Intelligence - Worldwide | Market Forecast - Statista', 'link': 'https://www.statista.com/outlook/tmo/artificial-intelligence/worldwide'}, {'question': 'What is the AI prediction for 2025?', 'snippet': 'In 2025, artificial intelligence (AI) is poised to become an even more integral part of our daily lives, influencing how we learn, work and conduct business. The rapid advancements in AI technology are reshaping industries at an unprecedented pace, offering new opportunities and challenges.', 'title': 'The Future of AI | 2025 Predictions from Cengage Group Leadership', 'link': 'https://www.cengagegroup.com/news/perspectives/2025/the-future-of-ai/'}, {'question': 'What new technology is coming out in 2025?', 'snippet': 'Agentic AI Gartner has named agentic AI the top tech trend for 2025. The term refers to autonomous machine \"agents\" that go beyond the query-and-response functionality of generative chatbots. These agents can perform enterprise-related tasks independently without human intervention.', 'title': 'Top 10 Technology Trends For 2025 - Forbes', 'link': 'https://www.forbes.com/councils/forbestechcouncil/2025/02/03/top-10-technology-trends-for-2025/'}, {'question': 'What are the trends for AI in 2026?', 'snippet': 'This vision points to AI systems that both analyze and govern data. “By 2026, the biggest breakthrough will be the rise of fully autonomous AI-driven data ecosystems, where self-healing, self-optimizing data pipelines operate with minimal human intervention.” states Deepak Yadav.', 'title': '5 Bold AI & Data Predictions for 2025/2026: Insights from DIS25 ...', 'link': 'https://hyperight.com/5-bold-ai-data-predictions-for-2025-2026-insights-from-dis25-experts/'}], 'relatedSearches': [{'query': 'Cloud computing'}, {'query': 'Ai industry latest technology trends 2025 forbes'}, {'query': 'Top 10 technology trends 2025'}, {'query': 'Deloitte Tech Trends 2025'}, {'query': 'AI trends 2025'}, {'query': 'McKinsey technology trends Outlook 2025'}, {'query': 'Generative AI trends 2025'}, {'query': 'Gartner technology trends 2025'}, {'query': 'Top tech trends 2025'}], 'credits': 1}\u001b[00m\n",
      "\n",
      "\n",
      "\u001b[1m\u001b[95m# Agent:\u001b[00m \u001b[1m\u001b[92m테크 트렌드 연구원\u001b[00m\n",
      "\u001b[95m## Thought:\u001b[00m \u001b[92mThought: I need to gather detailed information on the latest AI technology trends for 2025 from the top relevant sources.\u001b[00m\n",
      "\u001b[95m## Using tool:\u001b[00m \u001b[92mSearch in a specific website\u001b[00m\n",
      "\u001b[95m## Tool Input:\u001b[00m \u001b[92m\n",
      "\"{\\\"search_query\\\": \\\"AI trends 2025\\\", \\\"website\\\": \\\"https://www.technologyreview.com\\\"}\"\u001b[00m\n",
      "\u001b[95m## Tool Output:\u001b[00m \u001b[92m\n",
      "Relevant Content:\n",
      "asteroid-deflecting nukes, bitcoin-powered hot tubs, and a new way to detect bird flu.Read nowMore issuesArtificial intelligenceHow AI can help supercharge creativityForget one-click creativity. These artists and musicians are finding new ways to make art using AI, by injecting friction, challenge, and serendipity into the process. CultureHow creativity became the reigning value of our timeIn \"The Cult of Creativity,\" Samuel Franklin excavates the surprisingly recent history of an idea, an ideal, and an ideology. Artificial intelligenceAI is coming for music, tooNew diffusion AI models that make songs from scratch are complicating our definitions of authorship and human creativity. SpaceMeet the researchers testing the “Armageddon” approach to asteroid defenseA nuclear explosion might eventually be Earth’s only way to protect itself from a dangerous asteroid. But preparing for that without launching nukes into space means getting creative. Artificial intelligenceAI is pushing the limits of the physical worldArtificial intelligence is painting pictures, writing novels, making videos, and composing symphonies. Can it change what we build? HighlightsCulture6 months10 Breakthrough Technologies 2025What will really matter in the long run? That’s the question we tackle each year as we compile this annual list. Culture3 things that didn’t make the 10 Breakthrough Technologies of 2025 listThe 2025 edition was published in January. Here’s what wasn't on it. Artificial intelligenceFast-learning robots: 10 Breakthrough Technologies 2025AI advances are rapidly speeding up the process of training robots, and helping them do new tasks almost instantly. Climate change and energyGreen steel: 10 Breakthrough Technologies 2025Making steel produces a lot of greenhouse-gas emissions. Now, construction is underway in Sweden on an industrial-scale plant that will emit almost zero carbon dioxide. Artificial intelligenceSmall language models: 10 Breakthrough Technologies 2025Large\n",
      "\n",
      "language models unleashed the power of AI. Now it’s time for more efficient AIs to take over. Biotechnology and healthStem-cell therapies that work: 10 Breakthrough Technologies 2025After years of controversy, stem cells are on the cusp of cures for conditions like epilepsy and type 1 diabetes. CollectionWhat's NextMIT Technology Review’s What’s Next series looks across industries, trends, and technologies to give you a first look at the future.Previous slideNext slideClimate change and energyWhat’s next for nuclear powerGlobal shifts, advancing tech, and data center demand: Here’s what’s coming in 2025 and beyond. Artificial intelligenceWhat’s next for AI in 2025You already know that agents and small language models are the next big things. Here are five other hot trends you should watch out for this year. PolicyWhat’s next for our privacy?The US still has no federal privacy law. But recent enforcement actions against data brokers may offer some new protections for Americans’ personal information. Climate change and energyWhy EVs are (mostly) set for solid growth in 2025What happens in the US, however, will depend a lot on the incoming Trump administration. SpaceWhat’s next for NASA’s giant moon rocket?The Space Launch System is facing fresh calls for cancellation, but it still has a key role to play in NASA’s return to the moon. Artificial intelligenceWhat’s next for dronesPolice drones, rapid deliveries of blood, tech-friendly regulations, and autonomous weapons are all signs that drone technology is changing quickly. Biotechnology and healthWhat’s next for MDMAThe FDA is poised to approve the notorious party drug as a therapy. Here’s what it means, and where similar drugs stand in the US. Biotechnology and healthWhat’s next for bird flu vaccinesIf we want our vaccine production process to be more robust and faster, we’ll have to stop relying on chicken eggs. BusinessWhat’s next in chipsHow Big Tech, startups, AI devices, and trade wars will transform the way\n",
      "\n",
      "2025년 AI는?· 전문가들이 지목한 12가지 방향 | CIO By Maria Korolov Contributing writer 2025년 AI는?· 전문가들이 지목한 12가지 방향 기획 2025.01.0310분CIO생성형 AIIT 기술 2024년은 AI가 파일럿에서 생산 단계로 이동한 해였다. 2025년에는 전사적 규모로 확대되는 양상이 나타날 전망이다. Credit: SFIO CRACHO / Shutterstock 생성형 AI가 그 어떤 기술보다 빠르고 광범위하게 채택되고 있다. ROI를 확인한 수많은 기업이 활용처를 확대하고 있다. 기술 벤더들은 자사의 엔터프라이즈 소프트웨어 제품에 생성형 AI 기능을 추가하고 있고, AI 개발사들도 맹렬히 움직이는 중이다. 에이전틱 AI, 멀티모달 AI, 추론 AI(reasoning AI), 다양한 오픈소스 AI 프로젝트 움직임이 나타나고 있다. 9월 발표된 뱅크 오브 아메리카의 글로벌 리서치 애널리스트 및 전략가 대상 설문조사에 따르면 2024년은 ROI 확인의 해였으며, 2025년은 엔터프라이즈 AI 도입의 해가 될 전망이다. 뱅크 오브 아메리카 연구소의 콘텐츠 전략가인 바네사 쿡은 “향후 5~10년 동안 생성형 AI가 기업 효율성과 생산성의 진화를 크게 촉진하여 세계 경제는 물론 우리 삶을 변화시킬 것으로 예상한다”라고 말했다. 소규모 언어 모델과 엣지 컴퓨팅 2023년과 2024년의 경우 대부분의 관심은 일부 대형 언어 모델에 집중됐다. 오픈AI의 여러 챗GPT 모델, 앤트로픽의 클로드, 메타의 라마 등이 대표적이다. 그러나 현실의 비즈니스 사용 사례 다수에서 LLM은 가격과 속도 문제를 일으킨다. 업워크(Upwark)의 AI 및 ML 책임자인 앤드류 라비노비치는 “2025년을 내다보면 소규모 언어 모델(slm, 특히 맞춤형 모델이 많은 기업에게 더 일반적인 솔루션이 될 것”이라고 예상했다. LLM은 큰 비용을 요구할 뿐 아니라 산업별 활용 사례에 적합하지 않을 수 있기 때문이라는 설명이다. “반면에 소규모 모델은 더 맞춤화하기 쉽다. 정확하고 효율적인, 그러면서도 기업 고유의 요구 사항에 맞게 구축된 AI 시스템을 만들 수 있게 한다”라고 그는 덧붙였다. 업워크는 이미 20년 이상 축적된 회사의 데이터를 소규모 언어 모델과 조합하기 시작했다. “우리의 맞춤형 모델은 이미 더 나은 제안서를 작성하거나 기업이 후보자를 평가하는 데 유의미한 효과를 보여주고 있다”라고 그는 설명했다. 소규모 언어 모델은 엣지 및 모바일 배포에도 더 적합하다. 최근 애플의 모바일 AI에서도 드러나는 부분이다. 월마트 글로벌 테크놀로지의 수석 부사장 겸 COO인 안슈 바르드와즈는 모바일 AI의 혜택을 누릴 수 있는 사람은 소비자만이 아니라고 평가했다. 그녀는 “기업, 특히 대규모 직원과 고객 기반을 보유한 대기업들이 온디바이스 AI 채택을 본격화할 전망이다. 대기업을 우선적으로 고려하는 온디바이스 AI 기술 개발 움직임이 증가할 것이기 때문”이라고 말했다. 인간의 추론 능력에 근접하는 AI 지난해 9월 중순, 오픈AI는 “사람처럼 문제를 생각하는” 새로운 모델 시리즈를 출시했다. 이 모델들이 물리학, 화학, 생물학 분야의 까다로운 벤치마크 테스트에서 박사급 성능을 달성할 수 있다는 주장도 펼쳤다. 일례로 이전의 최고 모델인 GPT-4o는 국제 수학 올림피아드 문제의 13%만 풀 수 있었지만, 새로운 추론 모델은 83%를 풀었다고 회사는 전했다. “실제로 이 모델은 논리 유형의 문제를 추론하는 데 매우 뛰어나다”라고 퍼블리시스 사피엔트의 최고 제품 책임자인 셸던 몬테이로는 평가했다. 이는 기업이 어려운 코드 문제나 위험을 서로 비교해야 하는 대규모 프로젝트 계획에 이 모델을 사용할 수 있다는 의미로 이어진다. 가트너의 애널리스트 아룬 찬드라세카란은 AI가 더 잘 추론할 수 있게 되면 AI 에이전트가 인간의 의도를 이해하고, 이를 일련의 단계로 변환하여 인간 대신 작업을 수행할 수 있게 된다고 설명했다. 그는 “또 AI를 의사 결정 지원 시스템으로 사용하는 데에도 유효하다. 이 모든 것이\u001b[00m\n",
      "\n",
      "\n",
      "\u001b[1m\u001b[95m# Agent:\u001b[00m \u001b[1m\u001b[92m테크 트렌드 연구원\u001b[00m\n",
      "\u001b[95m## Final Answer:\u001b[00m \u001b[92m\n",
      "2025년 AI 업계의 최신 기술 동향과 그 중요성\n",
      "\n",
      "인공지능(AI) 분야는 2025년을 맞아 여러 혁신적인 기술 동향을 보이고 있으며, 그 중에서도 특히 주목받는 세 가지 동향은 다음과 같습니다.\n",
      "\n",
      "1. **에이전틱 AI(Agentic AI)**  \n",
      "에이전틱 AI는 독립적으로 작업을 수행할 수 있는 자율적인 머신 에이전트를 의미합니다. 이는 기존의 단순한 질문-응답 기능을 넘어, 복잡한 업무를 스스로 처리할 수 있는 능력을 가집니다. 기업에서는 이 기술을 활용해 업무 효율성을 크게 향상시키고, 사람의 개입 없이도 다양한 과제를 자동으로 수행할 수 있는 시스템을 구축할 수 있습니다. 이는 인력 자원의 최적화와 비용 절감으로 이어지며, 기업 운영의 혁신을 촉진할 것입니다.\n",
      "\n",
      "2. **소규모 언어 모델(Small Language Models)**  \n",
      "최근 대형 언어 모델(LLM)의 높은 비용과 처리 속도의 문제를 해결하기 위해 소규모 언어 모델의 필요성이 대두되고 있습니다. 이러한 모델은 특정 산업이나 기업의 요구에 맞게 더 쉽게 커스터마이즈할 수 있으며, 효율성과 정확성을 동시에 제공합니다. 기업들은 이 모델을 통해 자사의 데이터를 기반으로 한 맞춤형 AI 솔루션을 구축할 수 있으며, 이는 고객 서비스 개선 및 내부 업무 자동화에 기여할 것입니다.\n",
      "\n",
      "3. **추론 AI(Reasoning AI)**  \n",
      "추론 AI는 인간과 유사한 수준의 문제 해결 능력을 갖춘 AI 모델을 개발하는 것을 목표로 합니다. 이러한 모델은 복잡한 문제를 해결하는 데 뛰어난 성능을 발휘하며, 특정 분야에서 박사급 성능을 보일 수 있습니다. 이 기술의 발전은 기업들이 프로젝트 계획 및 의사 결정에 있어 AI를 적극적으로 활용할 수 있게 하여, 더 나은 결과를 도출하는 데 기여할 것입니다. AI가 인간의 의도를 이해하고 이를 기반으로 작업을 수행할 수 있게 된다면, 기업의 경쟁력은 더욱 강화될 것입니다.\n",
      "\n",
      "이 세 가지 기술 동향은 2025년 AI의 발전 방향을 제시하며, 기업들이 AI를 통해 혁신적인 변화를 이루는 데 중요한 역할을 할 것입니다. AI의 발전은 단순히 기술적 진보를 넘어, 기업 운영 방식과 사회 전반에 걸쳐 큰 변화를 가져올 것입니다.\u001b[00m\n",
      "\n",
      "\n",
      "\u001b[1m\u001b[95m# Agent:\u001b[00m \u001b[1m\u001b[92m뉴스레터 작성자\u001b[00m\n",
      "\u001b[95m## Task:\u001b[00m \u001b[92m\n",
      "테크 트렌드 연구원의 요약을 바탕으로 AI 산업에 대한 매력적인 테크 뉴스레터를 작성하세요.\n",
      "테크 뉴스레터이므로 전문적인 용어를 사용해도 괜찮습니다.\n",
      "\u001b[00m\n",
      "\n",
      "\n",
      "\u001b[1m\u001b[95m# Agent:\u001b[00m \u001b[1m\u001b[92m뉴스레터 작성자\u001b[00m\n",
      "\u001b[95m## Final Answer:\u001b[00m \u001b[92m\n",
      "# 2025년 AI 기술 트렌드 뉴스레터\n",
      "\n",
      "안녕하세요, AI 기술에 대한 최신 소식을 전해드리는 뉴스레터에 오신 것을 환영합니다! 2025년, 인공지능(AI) 업계는 그 어느 때보다도 흥미진진한 변화의 한가운데에 있습니다. 오늘은 특히 주목할 만한 세 가지 기술 동향에 대해 알아보겠습니다. 자, 그럼 두근두근한 AI의 세계로 떠나볼까요?\n",
      "\n",
      "## 에이전틱 AI: 자율의 시대를 열다!  \n",
      "에이전틱 AI는 이제 단순한 질문-응답을 넘어, 독립적으로 업무를 수행할 수 있는 자율적인 머신 에이전트로 진화했습니다. 기업들은 이 신기술을 통해 인간의 개입 없이도 복잡한 작업을 자동으로 처리할 수 있는 시스템을 구축하고 있습니다. 이를 통해 인력 자원을 최적화하고, 비용을 절감하면서도 업무 효율성을 극대화할 수 있죠. 마치 AI가 기업의 새로운 직원을 만든 듯한 느낌입니다! 잡다한 업무는 AI가 처리하고, 인간은 더 창의적인 일에 집중할 수 있는 시대가 다가오고 있습니다.\n",
      "\n",
      "## 소규모 언어 모델: 맞춤형 AI의 강력한 힘  \n",
      "최근 대형 언어 모델(LLM)의 높은 비용과 처리 속도 문제를 해결하기 위해 소규모 언어 모델이 각광받고 있습니다. 이들은 특정 산업이나 기업의 요구에 맞춰 쉽게 커스터마이즈할 수 있어, 효율성과 정확성을 동시에 제공합니다. 고객 서비스 개선 및 내부 업무 자동화에 기여할 수 있는 이 모델들은 마치 맞춤형 양복처럼, 기업의 니즈에 딱 맞게 설계된 AI 솔루션이 될 것입니다. AI와 함께라면 고객의 마음을 사로잡는 것은 시간 문제일지도 모르겠네요!\n",
      "\n",
      "## 추론 AI: 인간의 사고를 닮다  \n",
      "추론 AI는 인간과 유사한 수준의 문제 해결 능력을 갖춘 AI 모델 개발을 목표로 하고 있습니다. 이 기술은 복잡한 문제를 해결하는 데 뛰어난 성능을 발휘하며, 특정 분야에서는 박사급 수준의 성과를 보일 수 있습니다. 이러한 발전은 기업들이 프로젝트 계획 및 의사 결정에 있어 AI를 적극적으로 활용하는 계기가 될 것입니다. AI가 인간의 의도를 이해하고 이를 기반으로 작업을 수행하게 된다면, 기업의 경쟁력은 더욱 강화될 것이고, 여러분의 비즈니스도 한층 더 발전할 수 있을 것입니다.\n",
      "\n",
      "이 세 가지 기술 동향은 2025년 AI 업계의 미래를 밝히는 나침반과도 같습니다. 기업들이 AI를 통해 혁신적인 변화를 이루어 나가며, 기술은 단순히 발전하는 것을 넘어 사회 전반에 걸쳐 큰 변화를 가져올 것입니다. 앞으로도 AI와 함께하는 여정이 기대되네요! 다음 뉴스레터에서 더 흥미로운 소식으로 찾아뵙겠습니다. 감사합니다!\u001b[00m\n",
      "\n",
      "\n"
     ]
    }
   ],
   "source": [
    "result = crew.kickoff()"
   ]
  },
  {
   "cell_type": "markdown",
   "id": "45d6fc62",
   "metadata": {},
   "source": [
    "# 마크다운으로 표시"
   ]
  },
  {
   "cell_type": "code",
   "execution_count": 23,
   "id": "b7072431",
   "metadata": {},
   "outputs": [
    {
     "data": {
      "text/markdown": [
       "# 2025년 AI 기술 트렌드 뉴스레터\n",
       "\n",
       "안녕하세요, AI 기술에 대한 최신 소식을 전해드리는 뉴스레터에 오신 것을 환영합니다! 2025년, 인공지능(AI) 업계는 그 어느 때보다도 흥미진진한 변화의 한가운데에 있습니다. 오늘은 특히 주목할 만한 세 가지 기술 동향에 대해 알아보겠습니다. 자, 그럼 두근두근한 AI의 세계로 떠나볼까요?\n",
       "\n",
       "## 에이전틱 AI: 자율의 시대를 열다!  \n",
       "에이전틱 AI는 이제 단순한 질문-응답을 넘어, 독립적으로 업무를 수행할 수 있는 자율적인 머신 에이전트로 진화했습니다. 기업들은 이 신기술을 통해 인간의 개입 없이도 복잡한 작업을 자동으로 처리할 수 있는 시스템을 구축하고 있습니다. 이를 통해 인력 자원을 최적화하고, 비용을 절감하면서도 업무 효율성을 극대화할 수 있죠. 마치 AI가 기업의 새로운 직원을 만든 듯한 느낌입니다! 잡다한 업무는 AI가 처리하고, 인간은 더 창의적인 일에 집중할 수 있는 시대가 다가오고 있습니다.\n",
       "\n",
       "## 소규모 언어 모델: 맞춤형 AI의 강력한 힘  \n",
       "최근 대형 언어 모델(LLM)의 높은 비용과 처리 속도 문제를 해결하기 위해 소규모 언어 모델이 각광받고 있습니다. 이들은 특정 산업이나 기업의 요구에 맞춰 쉽게 커스터마이즈할 수 있어, 효율성과 정확성을 동시에 제공합니다. 고객 서비스 개선 및 내부 업무 자동화에 기여할 수 있는 이 모델들은 마치 맞춤형 양복처럼, 기업의 니즈에 딱 맞게 설계된 AI 솔루션이 될 것입니다. AI와 함께라면 고객의 마음을 사로잡는 것은 시간 문제일지도 모르겠네요!\n",
       "\n",
       "## 추론 AI: 인간의 사고를 닮다  \n",
       "추론 AI는 인간과 유사한 수준의 문제 해결 능력을 갖춘 AI 모델 개발을 목표로 하고 있습니다. 이 기술은 복잡한 문제를 해결하는 데 뛰어난 성능을 발휘하며, 특정 분야에서는 박사급 수준의 성과를 보일 수 있습니다. 이러한 발전은 기업들이 프로젝트 계획 및 의사 결정에 있어 AI를 적극적으로 활용하는 계기가 될 것입니다. AI가 인간의 의도를 이해하고 이를 기반으로 작업을 수행하게 된다면, 기업의 경쟁력은 더욱 강화될 것이고, 여러분의 비즈니스도 한층 더 발전할 수 있을 것입니다.\n",
       "\n",
       "이 세 가지 기술 동향은 2025년 AI 업계의 미래를 밝히는 나침반과도 같습니다. 기업들이 AI를 통해 혁신적인 변화를 이루어 나가며, 기술은 단순히 발전하는 것을 넘어 사회 전반에 걸쳐 큰 변화를 가져올 것입니다. 앞으로도 AI와 함께하는 여정이 기대되네요! 다음 뉴스레터에서 더 흥미로운 소식으로 찾아뵙겠습니다. 감사합니다!"
      ],
      "text/plain": [
       "<IPython.core.display.Markdown object>"
      ]
     },
     "metadata": {},
     "output_type": "display_data"
    }
   ],
   "source": [
    "from IPython.display import display, Markdown\n",
    "display(Markdown(result.raw))"
   ]
  },
  {
   "cell_type": "code",
   "execution_count": null,
   "id": "30b6dbb5",
   "metadata": {},
   "outputs": [],
   "source": []
  },
  {
   "cell_type": "code",
   "execution_count": null,
   "id": "fa1fb95c",
   "metadata": {},
   "outputs": [],
   "source": []
  }
 ],
 "metadata": {
  "kernelspec": {
   "display_name": "agent_env",
   "language": "python",
   "name": "python3"
  },
  "language_info": {
   "codemirror_mode": {
    "name": "ipython",
    "version": 3
   },
   "file_extension": ".py",
   "mimetype": "text/x-python",
   "name": "python",
   "nbconvert_exporter": "python",
   "pygments_lexer": "ipython3",
   "version": "3.12.11"
  }
 },
 "nbformat": 4,
 "nbformat_minor": 5
}
